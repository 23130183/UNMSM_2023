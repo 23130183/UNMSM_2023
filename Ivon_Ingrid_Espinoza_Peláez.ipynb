{
  "nbformat": 4,
  "nbformat_minor": 0,
  "metadata": {
    "colab": {
      "provenance": [],
      "authorship_tag": "ABX9TyOD1b1O4fNlzi35+U6/Ez1l",
      "include_colab_link": true
    },
    "kernelspec": {
      "name": "python3",
      "display_name": "Python 3"
    },
    "language_info": {
      "name": "python"
    },
    "widgets": {
      "application/vnd.jupyter.widget-state+json": {
        "1b90db49b2374ae494809377e3e1b15d": {
          "model_module": "faerun-notebook",
          "model_name": "SmilesDrawerModel",
          "model_module_version": "^0.1.5",
          "state": {
            "_dom_classes": [],
            "_model_module": "faerun-notebook",
            "_model_module_version": "^0.1.5",
            "_model_name": "SmilesDrawerModel",
            "_view_count": null,
            "_view_module": "faerun-notebook",
            "_view_module_version": "^0.1.5",
            "_view_name": "SmilesDrawerView",
            "background": "#1e1e1e",
            "border": true,
            "layout": "IPY_MODEL_2c5214730730449d99a27330d3d4b15f",
            "options": {
              "scale": 1.25
            },
            "output": "svg",
            "theme": "dark",
            "value": [
              [
                "Rxn",
                "C(C1C(C(C(C(O1)O)O)O)O)O.O=O>>C(=O)=O.O"
              ]
            ]
          }
        },
        "2c5214730730449d99a27330d3d4b15f": {
          "model_module": "@jupyter-widgets/base",
          "model_name": "LayoutModel",
          "model_module_version": "1.2.0",
          "state": {
            "_model_module": "@jupyter-widgets/base",
            "_model_module_version": "1.2.0",
            "_model_name": "LayoutModel",
            "_view_count": null,
            "_view_module": "@jupyter-widgets/base",
            "_view_module_version": "1.2.0",
            "_view_name": "LayoutView",
            "align_content": null,
            "align_items": null,
            "align_self": null,
            "border": null,
            "bottom": null,
            "display": null,
            "flex": null,
            "flex_flow": null,
            "grid_area": null,
            "grid_auto_columns": null,
            "grid_auto_flow": null,
            "grid_auto_rows": null,
            "grid_column": null,
            "grid_gap": null,
            "grid_row": null,
            "grid_template_areas": null,
            "grid_template_columns": null,
            "grid_template_rows": null,
            "height": null,
            "justify_content": null,
            "justify_items": null,
            "left": null,
            "margin": null,
            "max_height": null,
            "max_width": null,
            "min_height": null,
            "min_width": null,
            "object_fit": null,
            "object_position": null,
            "order": null,
            "overflow": null,
            "overflow_x": null,
            "overflow_y": null,
            "padding": null,
            "right": null,
            "top": null,
            "visibility": null,
            "width": null
          }
        }
      }
    }
  },
  "cells": [
    {
      "cell_type": "markdown",
      "metadata": {
        "id": "view-in-github",
        "colab_type": "text"
      },
      "source": [
        "<a href=\"https://colab.research.google.com/github/23130183/UNMSM_2023/blob/main/Ivon_Ingrid_Espinoza_Pel%C3%A1ez.ipynb\" target=\"_parent\"><img src=\"https://colab.research.google.com/assets/colab-badge.svg\" alt=\"Open In Colab\"/></a>"
      ]
    },
    {
      "cell_type": "code",
      "execution_count": null,
      "metadata": {
        "id": "pZmOx0wXQ8IB"
      },
      "outputs": [],
      "source": []
    },
    {
      "cell_type": "markdown",
      "source": [
        "$$\\Large \\textit{UNMSM | Química}$$\n",
        "$$\\large \\textbf{PC Nº1 | Materia y clasificación}$$\n",
        "\n",
        "_Profesor: Jesus Alvarado Huayhuaz_"
      ],
      "metadata": {
        "id": "sDJAjbaQOj4x"
      }
    },
    {
      "cell_type": "markdown",
      "source": [
        "Todas las indicaciones para la presentación de la práctica son explicadas en clase y brindadas en el material de enunciado de preguntas en formato PDF."
      ],
      "metadata": {
        "id": "_DsTzWLoP7Fy"
      }
    },
    {
      "cell_type": "markdown",
      "source": [
        "## Pregunta 1: Sobre el ABC de python (4 puntos)"
      ],
      "metadata": {
        "id": "obD7c2igOD6t"
      }
    },
    {
      "cell_type": "markdown",
      "source": [
        "Durante la semana de revisión del material \"ABC de python\", reflexiona sobre qué conceptos aprendiste con claridad y cuáles consideras los más desafiantes. A continuación resuelve los siguiente ejercicios, puedes ayudarte del material en http://bit.ly/3YKICSZ."
      ],
      "metadata": {
        "id": "emt93S7dL7QH"
      }
    },
    {
      "cell_type": "code",
      "source": [
        "# Imprime la versión de python que usas y las palabras reservadas de python para esa versión."
      ],
      "metadata": {
        "id": "6mJvqMN0LTU8"
      },
      "execution_count": null,
      "outputs": []
    },
    {
      "cell_type": "code",
      "source": [
        "!python --version\n"
      ],
      "metadata": {
        "id": "WJA6tyljMx1J",
        "outputId": "81509c42-ed26-4582-92f7-720266923a1a",
        "colab": {
          "base_uri": "https://localhost:8080/"
        }
      },
      "execution_count": null,
      "outputs": [
        {
          "output_type": "stream",
          "name": "stdout",
          "text": [
            "Python 3.10.12\n"
          ]
        }
      ]
    },
    {
      "cell_type": "code",
      "source": [
        "help(\"keywords\")"
      ],
      "metadata": {
        "id": "mWfp7ti5S2Sg",
        "outputId": "734bf019-a123-4f4d-8046-a3a2cb44e5ee",
        "colab": {
          "base_uri": "https://localhost:8080/"
        }
      },
      "execution_count": null,
      "outputs": [
        {
          "output_type": "stream",
          "name": "stdout",
          "text": [
            "\n",
            "Here is a list of the Python keywords.  Enter any keyword to get more help.\n",
            "\n",
            "False               class               from                or\n",
            "None                continue            global              pass\n",
            "True                def                 if                  raise\n",
            "and                 del                 import              return\n",
            "as                  elif                in                  try\n",
            "assert              else                is                  while\n",
            "async               except              lambda              with\n",
            "await               finally             nonlocal            yield\n",
            "break               for                 not                 \n",
            "\n"
          ]
        }
      ]
    },
    {
      "cell_type": "code",
      "source": [
        "# Crea una matriz de 3x3 e imprime la suma de los elementos en su diagonal (traza)."
      ],
      "metadata": {
        "id": "MxDzGypdLTXh"
      },
      "execution_count": null,
      "outputs": []
    },
    {
      "cell_type": "code",
      "source": [
        "matriz = [[1, 2, 3],\n",
        "          [4, 5, 6],\n",
        "          [7, 8, 9]]\n",
        "\n",
        "suma_diagonal = matriz[0][0] + matriz[1][1] + matriz[2][2]\n",
        "print(suma_diagonal)"
      ],
      "metadata": {
        "id": "ILDnphIwT4nq",
        "outputId": "a8ffc39c-ae9a-4bd7-8bdf-f42f9c3862b9",
        "colab": {
          "base_uri": "https://localhost:8080/"
        }
      },
      "execution_count": null,
      "outputs": [
        {
          "output_type": "stream",
          "name": "stdout",
          "text": [
            "15\n"
          ]
        }
      ]
    },
    {
      "cell_type": "code",
      "source": [
        "# Guarda como variable la masa atómica de los elementos C, H y O, e imprime la masa molecular del etanol."
      ],
      "metadata": {
        "id": "MyhNX7JmLTSe"
      },
      "execution_count": null,
      "outputs": []
    },
    {
      "cell_type": "code",
      "source": [
        "masa_carbono=12.011\n",
        "masa_hidrogeno=1.01\n",
        "masa_oxigeno=15.999\n",
        "masa_etanol=2*masa_carbono+6*masa_hidrogeno+masa_oxigeno\n",
        "print(masa_etanol)"
      ],
      "metadata": {
        "id": "S6UFVBDUWeO3",
        "outputId": "673dba8a-eb9b-4c56-c123-981cf23fa1eb",
        "colab": {
          "base_uri": "https://localhost:8080/"
        }
      },
      "execution_count": null,
      "outputs": [
        {
          "output_type": "stream",
          "name": "stdout",
          "text": [
            "46.081\n"
          ]
        }
      ]
    },
    {
      "cell_type": "code",
      "source": [
        "# Busca la temperatura de fusión en Celsius de 5 metales y guárdalos en una lista. Imprime las temperaturas en Kelvin"
      ],
      "metadata": {
        "id": "NCOnJ0FwgLLc"
      },
      "execution_count": null,
      "outputs": []
    },
    {
      "cell_type": "code",
      "source": [
        "temperaturas_alcalinos_celsius = {\n",
        "    \"Litio\": 180.54,\n",
        "    \"Sodio\": 97.72,\n",
        "    \"Potasio\": 63.38,\n",
        "    \"Rubidio\": 38.89,\n",
        "    \"Cesio\": 28.44,\n",
        "    \"Francio\": 27.82\n",
        "}\n",
        "def celsius_a_kelvin(celsius):\n",
        "    return celsius + 273.15\n",
        "print(\"Temperaturas de fusión de los metales alcalinos en Kelvin:\")\n",
        "for metal, temperatura_celsius in temperaturas_alcalinos_celsius.items():\n",
        "    temperatura_kelvin = celsius_a_kelvin(temperatura_celsius)\n",
        "    print(metal + \":\", temperatura_kelvin, \"K\")"
      ],
      "metadata": {
        "id": "w8LlxuHzj5k7",
        "outputId": "6edb06d5-c555-4c59-9bb4-2477dd31da4d",
        "colab": {
          "base_uri": "https://localhost:8080/"
        }
      },
      "execution_count": null,
      "outputs": [
        {
          "output_type": "stream",
          "name": "stdout",
          "text": [
            "Temperaturas de fusión de los metales alcalinos en Kelvin:\n",
            "Litio: 453.68999999999994 K\n",
            "Sodio: 370.87 K\n",
            "Potasio: 336.53 K\n",
            "Rubidio: 312.03999999999996 K\n",
            "Cesio: 301.59 K\n",
            "Francio: 300.96999999999997 K\n"
          ]
        }
      ]
    },
    {
      "cell_type": "markdown",
      "source": [
        "## Pregunta 2: Operaciones (4 puntos)"
      ],
      "metadata": {
        "id": "epzOadagLfPi"
      }
    },
    {
      "cell_type": "markdown",
      "source": [
        "Escribe un programa que lea repetidamente elementos químicos en español hasta que el usuario introduzca “fin”. Una vez se haya introducido “fin”, muestra por pantalla (o sea imprime) el total de elementos ingresados. Si el usuario introduce cualquier otra cosa que no sea un elemento químico, detecta su fallo usando try y except, muestra un mensaje de error y pasa al siguiente elemento."
      ],
      "metadata": {
        "id": "MbAEOGPsjOWZ"
      }
    },
    {
      "cell_type": "code",
      "source": [
        "elementos_quimicos = []\n",
        "\n",
        "while True:\n",
        "    elemento = input(\"Introduce un elemento químico en español (o escribe 'fin' para terminar): \")\n",
        "\n",
        "    if elemento.lower() == \"fin\":\n",
        "        break\n",
        "\n",
        "    try:\n",
        "        elementos_quimicos.append(elemento)\n",
        "    except:\n",
        "        print(\"Error: El elemento químico ingresado no es válido.\")\n",
        "        continue\n",
        "print(\"Total de elementos ingresados:\", len(elementos_quimicos))"
      ],
      "metadata": {
        "id": "gJGX0p5QLetj",
        "outputId": "0aa32ec0-6a64-468e-a52a-cee84fca643d",
        "colab": {
          "base_uri": "https://localhost:8080/"
        }
      },
      "execution_count": null,
      "outputs": [
        {
          "output_type": "stream",
          "name": "stdout",
          "text": [
            "Introduce un elemento químico en español (o escribe 'fin' para terminar): mercurio\n",
            "Introduce un elemento químico en español (o escribe 'fin' para terminar): fin\n",
            "Total de elementos ingresados: 1\n"
          ]
        }
      ]
    },
    {
      "cell_type": "markdown",
      "source": [
        "# Pregunta 3: Conservación de la masa (4 puntos)"
      ],
      "metadata": {
        "id": "8gxSHpD3LZsh"
      }
    },
    {
      "cell_type": "markdown",
      "source": [
        "### Código necesario para generar la imagen"
      ],
      "metadata": {
        "id": "mMV9c3hDl7KL"
      }
    },
    {
      "cell_type": "code",
      "source": [
        "!pip install faerun-notebook==0.1.5b0\n",
        "\n",
        "import ipywidgets as widgets\n",
        "from faerun_notebook import SmilesDrawer\n",
        "from google.colab import output\n",
        "output.enable_custom_widget_manager()"
      ],
      "metadata": {
        "id": "JgF8Ohtbky65"
      },
      "execution_count": null,
      "outputs": []
    },
    {
      "cell_type": "markdown",
      "source": [
        "### Reacción química"
      ],
      "metadata": {
        "id": "5sLC10D_oSrV"
      }
    },
    {
      "cell_type": "markdown",
      "source": [
        "Demuestra cómo se cumple la conservación de la masa en la siguiente reacción química. Sugerencia: hacer un balance estequiométrico y luego emplear la masa molecular de reactivos y productos."
      ],
      "metadata": {
        "id": "OVRhAzaVmD86"
      }
    },
    {
      "cell_type": "code",
      "source": [
        "SmilesDrawer(value=[(\"Rxn\", \"C(C1C(C(C(C(O1)O)O)O)O)O.O=O>>O=O.O\")], theme='dark', background=\"#1e1e1e\", options={'scale': 1.25})"
      ],
      "metadata": {
        "id": "XSiN_RF6-LbY",
        "outputId": "1d03ab1f-1687-49e7-f4e1-540d5270abd7",
        "colab": {
          "base_uri": "https://localhost:8080/",
          "height": 288,
          "referenced_widgets": [
            "1b90db49b2374ae494809377e3e1b15d",
            "2c5214730730449d99a27330d3d4b15f"
          ]
        }
      },
      "execution_count": null,
      "outputs": [
        {
          "output_type": "display_data",
          "data": {
            "text/plain": [
              "SmilesDrawer(background='#1e1e1e', options={'scale': 1.25}, theme='dark', value=[('Rxn', 'C(C1C(C(C(C(O1)O)O)O…"
            ],
            "application/vnd.jupyter.widget-view+json": {
              "version_major": 2,
              "version_minor": 0,
              "model_id": "1b90db49b2374ae494809377e3e1b15d"
            }
          },
          "metadata": {
            "application/vnd.jupyter.widget-view+json": {
              "colab": {
                "custom_widget_manager": {
                  "url": "https://ssl.gstatic.com/colaboratory-static/widgets/colab-cdn-widget-manager/b3e629b1971e1542/manager.min.js"
                }
              }
            }
          }
        }
      ]
    },
    {
      "cell_type": "code",
      "source": [
        "#tenemos C(C1C(C(C(C(O1)O)O)O)O)O.O=O>>C(=O)=O.O\n",
        "#balanceado es = C6H12O6 + 6O2 → 6CO2 + 6H2O\n",
        "#Reactivos masa molecular:\n",
        "Carbono_R=12\n",
        "Hidrogeno_R=1\n",
        "oxigeno_R=16\n",
        "\n",
        "reactivos_masa_total=((Carbono_R*6)+(Hidrogeno_R*12)+(oxigeno_R*6))+(6*(oxigeno_R*2))\n",
        "print(\"Masa totales Reactivos:\",reactivos_masa_total)\n"
      ],
      "metadata": {
        "colab": {
          "base_uri": "https://localhost:8080/"
        },
        "id": "J-IsYN93W46U",
        "outputId": "84ad0bdb-6471-4b7f-b34b-782354136c7b"
      },
      "execution_count": 43,
      "outputs": [
        {
          "output_type": "stream",
          "name": "stdout",
          "text": [
            "Masa totales Reactivos: 372\n"
          ]
        }
      ]
    },
    {
      "cell_type": "code",
      "source": [
        "#Productos masa molecular:\n",
        "\n",
        "Carbono_P=12\n",
        "Hidrogeno_P=1\n",
        "oxigeno_P=16\n",
        "productos_masa_total=(6*Carbono_P*1)+(6*oxigeno_P*2)+(6*Hidrogeno_P*2)+(6*oxigeno_P*1)\n",
        "print(\"Masa totales Productos:\",productos_masa_total)\n"
      ],
      "metadata": {
        "colab": {
          "base_uri": "https://localhost:8080/"
        },
        "id": "6FkR9Ht11-xa",
        "outputId": "939c648e-b446-4c7a-a51d-3dac9783cfd2"
      },
      "execution_count": 45,
      "outputs": [
        {
          "output_type": "stream",
          "name": "stdout",
          "text": [
            "Masa totales Productos: 372\n"
          ]
        }
      ]
    },
    {
      "cell_type": "code",
      "source": [
        "print (\"Masa totales Productos:\",productos_masa_total)\n",
        "if abs(reactivos_masa_total-productos_masa_total) < 0.1:\n",
        "   print(\"La conservación de la masa cumple\")\n",
        "else:\n",
        "  print(\"La conservacion de la masa no se cumple.\")"
      ],
      "metadata": {
        "colab": {
          "base_uri": "https://localhost:8080/"
        },
        "id": "sjm_Lgva45Qo",
        "outputId": "1330e437-f9e2-4e76-a843-7b99041a9305"
      },
      "execution_count": 57,
      "outputs": [
        {
          "output_type": "stream",
          "name": "stdout",
          "text": [
            "Masa totales Productos: 372\n",
            "La conservación de la masa cumple\n"
          ]
        }
      ]
    },
    {
      "cell_type": "code",
      "source": [
        "if abs(reactivos_masa_total-productos_masa_total) < 0.1:\n",
        "   print(\"La conservación de la masa cumple\")\n",
        "else:\n",
        "  print(\"La conservacion de la masa no se cumple.\")"
      ],
      "metadata": {
        "colab": {
          "base_uri": "https://localhost:8080/"
        },
        "id": "_UUzhK665U2n",
        "outputId": "33761605-7349-43e9-cf66-de3cd0fe658c"
      },
      "execution_count": 58,
      "outputs": [
        {
          "output_type": "stream",
          "name": "stdout",
          "text": [
            "La conservación de la masa cumple\n"
          ]
        }
      ]
    },
    {
      "cell_type": "markdown",
      "source": [
        "## Pregunta 4: Notación científica (4 puntos)"
      ],
      "metadata": {
        "id": "Rh-nAUiKhJNB"
      }
    },
    {
      "cell_type": "code",
      "source": [
        "#operacion 1\n",
        "suma_1=(1.321*10**-4) + (8.5*10**-2)\n",
        "print(suma_1)"
      ],
      "metadata": {
        "id": "M7gEeihUeTjQ",
        "outputId": "73db547d-416c-406b-a79b-7349494ef6ba",
        "colab": {
          "base_uri": "https://localhost:8080/"
        }
      },
      "execution_count": null,
      "outputs": [
        {
          "output_type": "stream",
          "name": "stdout",
          "text": [
            "0.0851321\n"
          ]
        }
      ]
    },
    {
      "cell_type": "code",
      "source": [
        "# operacion 2\n",
        "suma_2=(1.71*10**3) - (2.01*10**2)\n",
        "print(suma_2)"
      ],
      "metadata": {
        "id": "-xKovYRjnXKD",
        "outputId": "39798f1f-abc8-4c64-ad91-0c4da99d14d0",
        "colab": {
          "base_uri": "https://localhost:8080/"
        }
      },
      "execution_count": null,
      "outputs": [
        {
          "output_type": "stream",
          "name": "stdout",
          "text": [
            "1509.0\n"
          ]
        }
      ]
    },
    {
      "cell_type": "code",
      "source": [
        "# operacion 3\n",
        "multiplicacion_1=(7.4*10**5)*(7.2*10**4)\n",
        "print(multiplicacion_1)"
      ],
      "metadata": {
        "id": "NLW0vOAKoosU",
        "outputId": "f709ed79-f00f-4da3-eb4b-73510e74c4c9",
        "colab": {
          "base_uri": "https://localhost:8080/"
        }
      },
      "execution_count": null,
      "outputs": [
        {
          "output_type": "stream",
          "name": "stdout",
          "text": [
            "53280000000.0\n"
          ]
        }
      ]
    },
    {
      "cell_type": "code",
      "source": [
        "# operacion 4\n",
        "division_1=(7.4*10**5)/(7.2*10**4)\n",
        "print(division_1)"
      ],
      "metadata": {
        "id": "ueV-96mAnRqI",
        "outputId": "3018b32a-91fb-4f0e-8d54-2527aaa2d41e",
        "colab": {
          "base_uri": "https://localhost:8080/"
        }
      },
      "execution_count": null,
      "outputs": [
        {
          "output_type": "stream",
          "name": "stdout",
          "text": [
            "10.277777777777779\n"
          ]
        }
      ]
    },
    {
      "cell_type": "markdown",
      "source": [
        "Imprime las siguientes operaciones según la notación científica:\n",
        "\n",
        "(1) $1.321 \\times 10^{-4} + 8.5 \\times 10^{-2}$\n",
        "\n",
        "(2) $1.71 \\times 10^{3} - 2.01 \\times 10^{2}\\$\n",
        "\n",
        "(3) $(7.4 \\times 10^5)(7.2 \\times 10^4)$\n",
        "\n",
        "(4) $(7.4 \\times 10^5)/(7.2 \\times 10^4)$"
      ],
      "metadata": {
        "id": "NIkI45Xdqqnt"
      }
    },
    {
      "cell_type": "markdown",
      "source": [
        "## Pregunta 5: Método científico (4 puntos)"
      ],
      "metadata": {
        "id": "CuzCcXJghR14"
      }
    },
    {
      "cell_type": "markdown",
      "source": [
        "Artículo: https://bit.ly/3surZ1W\n",
        "Leer el siguiente artículo y explica cómo es aplicado el método científico. Emplea como máximo 300 palabras."
      ],
      "metadata": {
        "id": "WngRSR-Rhmx1"
      }
    },
    {
      "cell_type": "markdown",
      "source": [
        "Los investigadores han resuelto el rompecabezas de LK-99 y han descubierto que el material no es un superconductor. Han encontrado evidencia de que las impurezas en el material, especialmente el sulfuro de cobre, son responsables de las propiedades similares a las de los superconductores que se observaron anteriormente. Esto ha frustrado las esperanzas de que LK-99 fuera el primer superconductor que funcionara a temperatura ambiente y presión ambiental. Después de varios intentos de replicación, muchos expertos están seguros de que LK-99 no es un superconductor a temperatura ambiente.\n",
        "Derrick VanGennep, un antiguo investigador de materia condensada, notó varias señales de alerta en relación a LK-99. Observó en un video que el borde de la muestra parecía pegarse al imán en lugar de levitar como lo haría un superconductor. VanGennep construyó una pastilla de grafito con limaduras de hierro pegadas para imitar el comportamiento de LK-99. Posteriormente, el equipo de la Universidad de Pekín informó que esta \"media levitación\" también se presentaba en sus propias muestras de LK-99 debido al ferromagnetismo. Aunque no encontraron signos de superconductividad, no pudieron explicar la caída brusca de la resistividad observada por el equipo de Corea del Sur.\n",
        "El equipo surcoreano observó una caída significativa en la resistividad de LK-99 a una temperatura específica. Prashant Jain, un químico de la Universidad de Illinois, reconoció que esta temperatura era similar a la temperatura en la que el sulfuro de cobre (Cu2S) experimenta una transición de fase. Jain publicó un estudio sobre este efecto y el equipo del CAS también informó sobre los efectos de las impurezas de Cu2S en LK-99. Descubrieron que diferentes procesos de síntesis producían diferentes contenidos de Cu2S y que la resistividad de las muestras variaba en consecuencia. Aunque el material es impredecible y contiene impurezas, los investigadores creen que las muestras que se acercan lo suficiente al original son suficientes para comprobar si LK-99 es un superconductor a temperatura ambiente."
      ],
      "metadata": {
        "id": "cB4nH34gHSlL"
      }
    }
  ]
}